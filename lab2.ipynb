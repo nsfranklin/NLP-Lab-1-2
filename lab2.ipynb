{
 "cells": [
  {
   "cell_type": "code",
   "execution_count": 24,
   "metadata": {},
   "outputs": [],
   "source": [
    "import csv                               # csv reader\n",
    "from sklearn.svm import LinearSVC\n",
    "from nltk.classify import SklearnClassifier\n",
    "from random import shuffle\n",
    "from sklearn.pipeline import Pipeline\n",
    "from sklearn import metrics as Skmet"
   ]
  },
  {
   "cell_type": "code",
   "execution_count": 2,
   "metadata": {},
   "outputs": [],
   "source": [
    "# load data from a file and append it to the rawData\n",
    "def loadData(path, Text=None):\n",
    "    with open(path,encoding='utf8') as f:\n",
    "        reader = csv.reader(f, delimiter='\\t')\n",
    "        for line in reader:\n",
    "            #print(line)\n",
    "            (Id, Text, Label) = parseReview(line)\n",
    "            rawData.append((Id, Text, Label))\n",
    "            preprocessedData.append((Id, preProcess(Text), Label))\n",
    "        \n",
    "def splitData(percentage):\n",
    "    dataSamples = len(rawData)\n",
    "    halfOfData = int(len(rawData)/2)\n",
    "    trainingSamples = int((percentage*dataSamples)/2)\n",
    "    for (_, Text, Label) in rawData[:trainingSamples] + rawData[halfOfData:halfOfData+trainingSamples]:\n",
    "        trainData.append((toFeatureVector(preProcess(Text)),Label))\n",
    "    for (_, Text, Label) in rawData[trainingSamples:halfOfData] + rawData[halfOfData+trainingSamples:]:\n",
    "        testData.append((toFeatureVector(preProcess(Text)),Label))"
   ]
  },
  {
   "cell_type": "code",
   "execution_count": 15,
   "metadata": {},
   "outputs": [],
   "source": [
    "# QUESTION 1\n",
    "\n",
    "# Convert line from input file into an id/text/label tuple\n",
    "def parseReview(reviewLine):\n",
    "    # Should return a triple of an integer, a string containing the review, and a string indicating the label\n",
    "    #print(reviewLine)\n",
    "    Id = reviewLine[0]\n",
    "    Text = reviewLine[8]\n",
    "    if reviewLine[1] == '__label2__':\n",
    "        Label = 'real'\n",
    "    else:\n",
    "        Label = 'fake'\n",
    "    return (Id, Text, Label)\n",
    "\n"
   ]
  },
  {
   "cell_type": "code",
   "execution_count": 4,
   "metadata": {},
   "outputs": [],
   "source": [
    "# TEXT PREPROCESSING AND FEATURE VECTORIZATION\n",
    "\n",
    "# Input: a string of one review\n",
    "def preProcess(text):\n",
    "    # Should return a list of tokens\n",
    "    temp = text.split(\" \")\n",
    "    #do more normalisation when I feel like it.\n",
    "    \n",
    "    return temp"
   ]
  },
  {
   "cell_type": "code",
   "execution_count": 5,
   "metadata": {},
   "outputs": [],
   "source": [
    "# QUESTION 2\n",
    "featureDict = {} # A global dictionary of features\n",
    "\n",
    "def toFeatureVector(tokens):\n",
    "    # Should return a dictionary containing features as keys, and weights as values\n",
    "    reviewDict = { }\n",
    "    for token in tokens: #adding to the review dict\n",
    "        if token in reviewDict:\n",
    "            reviewDict[token] = reviewDict[token] + 1\n",
    "        else:\n",
    "            reviewDict[token] = 1\n",
    "    \n",
    "    for token in tokens:\n",
    "        if token in featureDict:\n",
    "            featureDict[token] = featureDict[token] + 1\n",
    "        else:\n",
    "            featureDict[token] = 1\n",
    "    return reviewDict"
   ]
  },
  {
   "cell_type": "code",
   "execution_count": 6,
   "metadata": {},
   "outputs": [],
   "source": [
    "# TRAINING AND VALIDATING OUR CLASSIFIER\n",
    "def trainClassifier(trainData):\n",
    "    print(\"Training Classifier...\")\n",
    "    pipeline =  Pipeline([('svc', LinearSVC())])\n",
    "    return SklearnClassifier(pipeline).train(trainData)"
   ]
  },
  {
   "cell_type": "code",
   "execution_count": 28,
   "metadata": {},
   "outputs": [],
   "source": [
    "# QUESTION 3\n",
    "\n",
    "def crossValidate(dataset, folds):\n",
    "    shuffle(dataset)\n",
    "    cv_results = []\n",
    "    foldSize = int(len(dataset)/folds)\n",
    "    for i in range(0,len(dataset),foldSize):\n",
    "        tempDataSet = dataset[0:i] + dataset[i+foldSize:len(dataset)] # joins to parts of the list to form the dataset to test.\n",
    "        # Replace by code that trains and tests on the 10 folds of data in the dataset\n",
    "        print(tempDataSet[0:10]) \n",
    "        classifier = trainClassifier(tempDataSet)\n",
    "        results = predictLabels(tempDataSet, classifier)\n",
    "        precision, recall, f_score, support = Skmet.precision_recall_fscore_support(actualLabels,results);\n",
    "        \n",
    "        \n",
    "    return cv_results"
   ]
  },
  {
   "cell_type": "code",
   "execution_count": 8,
   "metadata": {},
   "outputs": [],
   "source": [
    "# PREDICTING LABELS GIVEN A CLASSIFIER\n",
    "\n",
    "def predictLabels(reviewSamples, classifier):\n",
    "    return classifier.classify_many(map(lambda t: toFeatureVector(preProcess(t[1])), reviewSamples))\n",
    "\n",
    "def predictLabel(reviewSample, classifier):\n",
    "    return classifier.classify(toFeatureVector(preProcess(reviewSample)))"
   ]
  },
  {
   "cell_type": "code",
   "execution_count": 29,
   "metadata": {},
   "outputs": [
    {
     "name": "stdout",
     "output_type": "stream",
     "text": [
      "Now 0 rawData, 0 trainData, 0 testData\n",
      "Preparing the dataset...\n",
      "Now 21001 rawData, 0 trainData, 0 testData\n",
      "Preparing training and test data...\n",
      "Now 21001 rawData, 16800 trainData, 4201 testData\n",
      "Training Samples: \n",
      "16800\n",
      "Features: \n",
      "89046\n",
      "[({\"I'm\": 1, 'kind': 1, 'of': 2, 'a': 2, 'swimsuit': 1, 'addict.': 1, '': 1, 'So': 1, 'I': 1, 'use': 2, 'one': 1, 'half': 1, 'this': 1, 'to': 2, 'hang': 1, 'up': 1, 'my': 2, 'suits.<br': 1, '/>I': 2, 'the': 1, 'other': 1, 'side': 1, 'put': 1, 'away': 1, 'winter': 1, 'gear,': 1, 'like': 1, 'scarfs,': 1, 'mittens,': 1, 'gloves': 1, 'and': 1, 'few': 1, 'hats.<br': 1, \"/>It's\": 1, 'not': 1, 'even': 1, 'full': 1, 'yet,': 1, 'but': 1, 'it': 1, 'holds': 1, 'SO': 1, 'MUCH': 1, 'STUFF!!!<br': 1, 'love': 1, 'it!<br': 1, '/><br': 1, '/>-Liz<br': 1, '/>(writing': 1, 'from': 1, 'husbands': 1, 'account)': 1}, 'real'), ({'Amazing': 1, 'detail..Ken': 1, 'as': 3, 'a': 3, 'Coca': 2, 'Cola': 2, 'soda': 2, 'jerk': 1, 'the': 6, \"50's\": 2, 'referred': 1, 'to': 2, 'person': 1, 'who': 1, 'worked': 1, 'behind': 1, 'counter': 1, 'of': 1, 'Soda': 2, 'Fountain': 1, 'Shops..brought': 1, 'me': 1, 'back': 1, 'days': 1, 'when': 1, 'there': 1, 'were': 1, 'fountain': 1, 'shops..Ken': 1, 'is': 2, 'so': 1, 'perfect': 2, 'to<br': 1, '/>complete': 1, 'scene': 1, 'with': 4, 'Barbie': 2, 'waitress': 1, 'and': 2, 'her': 1, '50s': 1, 'saddle': 1, 'shoes..Ken': 1, 'wearing': 1, 'his': 1, 'white': 2, 'crisp': 1, 'uniform': 1, 'hat': 1, 'buck': 1, 'shoes..tablet': 1, 'in': 1, 'apron.and': 1, 'bottle': 1, 'opener': 1, 'at': 1, 'waist!': 1, 'So': 1, 'Fountain...': 1}, 'real'), ({'This': 1, 'item': 1, 'worked': 1, 'like': 1, 'a': 2, 'charm': 1, '...it': 1, 'was': 2, 'very': 1, 'cost': 1, 'effective': 1, 'way': 1, 'to': 3, 'preserve': 1, 'the': 6, 'home': 1, 'movies': 1, 'and': 3, 'memories': 1, 'we': 2, 'had': 1, 'on': 1, 'vhs': 1, 'tapes.nveryneasy': 1, 'use.': 1, 'After': 1, 'installing': 1, 'software': 1, 'it': 1, 'simply': 1, 'connecting': 1, 'computer': 1, 'vcr': 1, 'with': 1, 'cable': 1, 'device': 1, 'were': 1, 'off': 1, 'running': 1, '!no': 1, 'problems!': 1, 'For': 1, 'price': 1, 'paired': 1, 'you': 1, 'cannot': 1, 'beat': 1, 'it!': 1}, 'fake'), ({'These': 1, 'gloves': 2, 'fit': 1, 'great!': 1, 'The': 2, 'are': 1, 'really': 1, 'good': 1, 'quality': 2, 'and': 1, 'feel': 1, 'great': 2, 'as': 1, 'well.': 1, 'presentation': 1, 'is': 2, 'wonderful,': 1, 'but': 1, 'the': 2, 'best': 1, 'thing': 1, 'high': 1, 'feel.': 1, 'Adds': 1, 'a': 1, 'touch': 1, 'to': 1, 'any': 1, 'other': 1, 'lacy': 1, 'or': 1, 'frilly': 1, 'outfit!': 1}, 'fake'), ({'Five': 2, 'COMMOMERATIVE': 1, 'Stars!': 2, 'This': 2, '': 2, '60': 1, 'inch': 4, 'POW/MIA': 3, 'water-resistant': 1, 'polyester-like': 2, 'windsock': 1, 'is': 3, 'an': 2, 'excellent': 2, 'way': 2, 'to': 4, 'honor': 1, 'those': 2, 'who': 2, 'are': 4, 'or': 2, 'were': 1, 'prisoners': 1, 'of': 3, 'war': 1, 'and': 5, 'still': 1, 'missing-in-action': 1, 'from': 1, 'current': 1, 'past': 1, 'wars.': 1, 'It': 1, 'has': 2, 'a': 3, 'large': 1, '18': 1, 'long': 2, 'solid': 2, 'upper': 1, 'piece': 1, 'material': 1, 'which': 2, 'the': 4, 'emblem': 1, 'on': 2, 'it,': 1, 'which,': 1, 'in': 2, 'turn,': 1, 'attached': 1, '5': 1, '1/2': 1, 'diameter': 1, 'circular': 1, 'metallic': 1, 'ring': 1, 'with': 1, '6': 2, 'string': 1, 'hanger': 1, 'hook.': 1, 'There': 1, 'alternating': 1, 'black': 1, 'white': 1, 'stripes': 1, '42': 1, 'inches': 1, 'long,': 1, 'dangling': 1, 'beneath': 1, 'piece.': 1, 'observe': 1, 'National': 1, 'Recognition': 1, 'Day': 1, '3rd': 1, 'Friday': 1, 'September': 1, 'each': 1, 'year,': 1, 'Veterans': 1, 'Day,': 2, 'Armed': 1, 'Forces': 1, 'at': 1, 'any': 1, 'other': 1, 'day': 1, 'as': 1, 'it': 1, 'flutters': 1, 'gently': 1, 'breezes': 1, 'drawing': 1, 'attention': 1, 'itself': 1, 'its': 1, 'purpose.': 1, 'SALUTARY': 1, '(1-POW/MIA': 1, 'Windsock)': 1}, 'real'), ({'Good': 1, 'sound': 1, 'quality,': 1, 'I': 1, 'enjoy': 1, 'them': 1, 'during': 1, 'workout': 1, 'and': 1, 'running.': 1, 'They': 1, 'stay': 1, 'in': 1, 'your': 1, 'ear': 2, 'well': 1, 'if': 1, 'you': 1, 'find': 1, 'the': 1, 'right': 1, 'stabilizer.': 1}, 'fake'), ({\"I'm\": 1, 'bee': 1, 'using': 1, 'this': 1, 'oil': 1, 'for': 1, 'a': 1, 'few': 1, 'day': 1, 'now': 1, 'and': 1, 'i': 1, 'absolutely': 1, 'love': 1, 'it,': 1, 'highly': 1, 'recommend,': 1, 'my': 1, 'skin': 1, 'face': 1, 'is': 1, 'glowing': 1, 'since': 1, 'then.': 1}, 'fake'), ({'My': 1, 'daughter-in-law': 1, 'wanted': 1, 'boots': 1, 'for': 1, 'my': 2, '2': 1, 'year-old': 1, 'grandson.': 2, '': 2, 'She': 1, 'loved': 1, 'these,': 1, 'and': 2, 'so': 1, 'did': 1, 'They': 1, 'are': 1, 'sturdy': 1, 'well-made.': 1}, 'real'), ({'I': 2, 'own': 1, 'this': 1, 'style': 1, 'in': 2, 'a': 1, 'more': 1, 'expensive': 2, 'pair.': 1, 'This': 1, 'one': 1, 'is': 1, 'good': 1, 'for': 2, 'the': 4, 'price.': 1, 'If': 1, 'ones': 1, 'were': 1, 'next': 1, 'to': 1, 'these,': 1, 'you': 2, 'could': 2, 'tell': 1, 'difference,': 1, 'but': 1, 'on': 1, 'their': 1, 'own,': 1, 'your': 1, 'ears,': 1, 'think': 1, \"you'd\": 1, 'get': 1, 'many': 1, 'compliments.': 1, 'They': 1, 'can': 1, 'be': 1, 'worn': 1, 'evening': 1, 'or,': 1, 'with': 2, 'present': 1, 'trends,': 1, 'wear': 1, 'them': 1, 'jeans.,': 1}, 'fake'), ({'Disclaimer:': 1, 'Like': 1, 'every': 1, 'sharp': 2, 'objects,': 1, 'be': 1, 'careful': 1, 'in': 2, 'handling': 1, 'this': 3, 'product': 2, 'but': 2, 'is': 3, 'totally': 1, 'awesome': 1, 'I': 2, 'got': 1, 'as': 3, 'part': 1, 'of': 2, 'a': 2, 'promotion.': 1, '': 1, 'This': 1, 'must': 1, 'have': 2, 'for': 2, 'your': 1, 'kitchen': 2, 'and': 2, 'also': 2, 'very': 1, 'good': 1, 'peeling': 1, 'fruits': 1, 'vegetables.I': 1, 'am': 1, 'so': 1, 'delighted': 1, 'that': 1, 'was': 1, 'able': 1, 'to': 2, 'peeler': 1, 'because': 1, 'aside': 1, 'from': 1, \"it's\": 1, 'great': 1, 'design,': 1, 'it': 2, 'really': 1, 'safe': 1, 'use.I': 1, 'enjoy': 1, 'using': 1, 'my': 2, 'well': 1, 'husband.': 1}, 'fake')]\n",
      "Training Classifier...\n"
     ]
    },
    {
     "ename": "NameError",
     "evalue": "name 'actualLabels' is not defined",
     "output_type": "error",
     "traceback": [
      "\u001b[1;31m---------------------------------------------------------------------------\u001b[0m",
      "\u001b[1;31mNameError\u001b[0m                                 Traceback (most recent call last)",
      "\u001b[1;32m<ipython-input-29-a467d475c705>\u001b[0m in \u001b[0;36m<module>\u001b[1;34m\u001b[0m\n\u001b[0;32m     27\u001b[0m       \"Training Samples: \", len(trainData), \"Features: \", len(featureDict), sep='\\n')\n\u001b[0;32m     28\u001b[0m \u001b[1;33m\u001b[0m\u001b[0m\n\u001b[1;32m---> 29\u001b[1;33m \u001b[0mcrossValidationResults\u001b[0m \u001b[1;33m=\u001b[0m \u001b[0mcrossValidate\u001b[0m\u001b[1;33m(\u001b[0m\u001b[0mtrainData\u001b[0m\u001b[1;33m,\u001b[0m \u001b[1;36m10\u001b[0m\u001b[1;33m)\u001b[0m\u001b[1;33m;\u001b[0m\u001b[1;33m\u001b[0m\u001b[1;33m\u001b[0m\u001b[0m\n\u001b[0m\u001b[0;32m     30\u001b[0m \u001b[1;33m\u001b[0m\u001b[0m\n\u001b[0;32m     31\u001b[0m \u001b[0mprint\u001b[0m\u001b[1;33m(\u001b[0m\u001b[0mlen\u001b[0m\u001b[1;33m(\u001b[0m\u001b[0mcrossValidationResults\u001b[0m\u001b[1;33m[\u001b[0m\u001b[1;36m0\u001b[0m\u001b[1;33m]\u001b[0m\u001b[1;33m)\u001b[0m\u001b[1;33m)\u001b[0m\u001b[1;33m\u001b[0m\u001b[1;33m\u001b[0m\u001b[0m\n",
      "\u001b[1;32m<ipython-input-28-c88fe8d54d66>\u001b[0m in \u001b[0;36mcrossValidate\u001b[1;34m(dataset, folds)\u001b[0m\n\u001b[0;32m     11\u001b[0m         \u001b[0mclassifier\u001b[0m \u001b[1;33m=\u001b[0m \u001b[0mtrainClassifier\u001b[0m\u001b[1;33m(\u001b[0m\u001b[0mtempDataSet\u001b[0m\u001b[1;33m)\u001b[0m\u001b[1;33m\u001b[0m\u001b[1;33m\u001b[0m\u001b[0m\n\u001b[0;32m     12\u001b[0m         \u001b[0mresults\u001b[0m \u001b[1;33m=\u001b[0m \u001b[0mpredictLabels\u001b[0m\u001b[1;33m(\u001b[0m\u001b[0mtempDataSet\u001b[0m\u001b[1;33m,\u001b[0m \u001b[0mclassifier\u001b[0m\u001b[1;33m)\u001b[0m\u001b[1;33m\u001b[0m\u001b[1;33m\u001b[0m\u001b[0m\n\u001b[1;32m---> 13\u001b[1;33m         \u001b[0mprecision\u001b[0m\u001b[1;33m,\u001b[0m \u001b[0mrecall\u001b[0m\u001b[1;33m,\u001b[0m \u001b[0mf_score\u001b[0m\u001b[1;33m,\u001b[0m \u001b[0msupport\u001b[0m \u001b[1;33m=\u001b[0m \u001b[0mSkmet\u001b[0m\u001b[1;33m.\u001b[0m\u001b[0mprecision_recall_fscore_support\u001b[0m\u001b[1;33m(\u001b[0m\u001b[0mactualLabels\u001b[0m\u001b[1;33m,\u001b[0m\u001b[0mresults\u001b[0m\u001b[1;33m)\u001b[0m\u001b[1;33m;\u001b[0m\u001b[1;33m\u001b[0m\u001b[1;33m\u001b[0m\u001b[0m\n\u001b[0m\u001b[0;32m     14\u001b[0m \u001b[1;33m\u001b[0m\u001b[0m\n\u001b[0;32m     15\u001b[0m \u001b[1;33m\u001b[0m\u001b[0m\n",
      "\u001b[1;31mNameError\u001b[0m: name 'actualLabels' is not defined"
     ]
    }
   ],
   "source": [
    "# MAIN\n",
    "\n",
    "# loading reviews\n",
    "rawData = []          # the filtered data from the dataset file (should be 21000 samples)\n",
    "preprocessedData = [] # the preprocessed reviews (just to see how your preprocessing is doing)\n",
    "trainData = []        # the training data as a percentage of the total dataset (currently 80%, or 16800 samples)\n",
    "testData = []         # the test data as a percentage of the total dataset (currently 20%, or 4200 samples)\n",
    "\n",
    "# the output classes\n",
    "fakeLabel = 'fake'\n",
    "realLabel = 'real'\n",
    "\n",
    "# references to the data files\n",
    "reviewPath = 'amazon_reviews.txt'\n",
    "\n",
    "## Do the actual stuff\n",
    "# We parse the dataset and put it in a raw data list\n",
    "print(\"Now %d rawData, %d trainData, %d testData\" % (len(rawData), len(trainData), len(testData)),\n",
    "      \"Preparing the dataset...\",sep='\\n')\n",
    "loadData(reviewPath) \n",
    "# We split the raw dataset into a set of training data and a set of test data (80/20)\n",
    "print(\"Now %d rawData, %d trainData, %d testData\" % (len(rawData), len(trainData), len(testData)),\n",
    "      \"Preparing training and test data...\",sep='\\n')\n",
    "splitData(0.8)\n",
    "# We print the number of training samples and the number of features\n",
    "print(\"Now %d rawData, %d trainData, %d testData\" % (len(rawData), len(trainData), len(testData)),\n",
    "      \"Training Samples: \", len(trainData), \"Features: \", len(featureDict), sep='\\n')\n",
    "\n",
    "crossValidationResults = crossValidate(trainData, 10);\n",
    "\n",
    "print(len(crossValidationResults[0]))"
   ]
  },
  {
   "cell_type": "code",
   "execution_count": null,
   "metadata": {},
   "outputs": [],
   "source": []
  },
  {
   "cell_type": "code",
   "execution_count": null,
   "metadata": {},
   "outputs": [],
   "source": []
  }
 ],
 "metadata": {
  "kernelspec": {
   "display_name": "Python 3",
   "language": "python",
   "name": "python3"
  },
  "language_info": {
   "codemirror_mode": {
    "name": "ipython",
    "version": 3
   },
   "file_extension": ".py",
   "mimetype": "text/x-python",
   "name": "python",
   "nbconvert_exporter": "python",
   "pygments_lexer": "ipython3",
   "version": "3.7.3"
  }
 },
 "nbformat": 4,
 "nbformat_minor": 2
}
